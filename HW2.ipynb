{
 "cells": [
  {
   "cell_type": "code",
   "execution_count": 1,
   "metadata": {},
   "outputs": [
    {
     "name": "stdout",
     "output_type": "stream",
     "text": [
      "4\n",
      "1\n",
      "2\n",
      "2\n",
      "1\n",
      "3\n"
     ]
    }
   ],
   "source": [
    "print(1 and 2 and 3 and 4)\n",
    "print(1 or 2 or 3 or 4)\n",
    "print(1 and 2 or 3 and 4)\n",
    "print((1 and 2) or (3 and 4))\n",
    "print(1 or 2 and 3 or 4)\n",
    "print((1 or 2) and (3 or 4))"
   ]
  },
  {
   "cell_type": "markdown",
   "metadata": {},
   "source": [
    "1. print(1 and 2 and 3 and 4)는 \n",
    ">1, 2, 3, 4 모두 True이므로 4가 출력된다.\n",
    "2. print(1 or 2 or 3 or 4)는 \n",
    ">1이 True이므로 뒤에는 상관없이 1이 출력된다.\n",
    "3. print(1 and 2 or 3 and 4)는 \n",
    ">1, 2가 True인데 2 뒤에는 or 이므로 뒤에는 상관없이 2가 출력된다.\n",
    "4. print((1 and 2) or (3 and 4))는 \n",
    ">(1 and 2)가 True이므로 뒤에는 상관없이 1 and 2의 결과인 2가 출력된다.\n",
    "5. print(1 or 2 and 3 or 4)는 \n",
    ">1이 True이므로 뒤에는 상관없이 1이 출력된다.\n",
    "6. print((1 or 2) and (3 or 4))는 \n",
    ">(1 or 2)가 True이고 (3 or 4)가 True이므로 뒤에 있는 (3 or 4)의 결과인 3이 출력된다."
   ]
  },
  {
   "cell_type": "code",
   "execution_count": 3,
   "metadata": {
    "collapsed": true
   },
   "outputs": [],
   "source": [
    "#list_union 함수\n",
    "def list_union(lista, listb):\n",
    "    listc = lista # 먼저 새로운 listc에 lista를 넣어준다.\n",
    "    for x in listb: # listb의 원소 수 만큼 반복하면서\n",
    "        if (x in listc) == False: # listb의 원소가 listc에 없다면\n",
    "            listc.append(x) # listc에 listb의 원소를 넣어준다.\n",
    "        listc.sort() # 마지막으로 listc를 정렬해준 후 반환한다.\n",
    "    return listc"
   ]
  },
  {
   "cell_type": "code",
   "execution_count": 4,
   "metadata": {},
   "outputs": [
    {
     "name": "stdout",
     "output_type": "stream",
     "text": [
      "[1, 2, 3, 4]\n",
      "[-10, -5, -1, 0, 9, 100]\n",
      "[0, 1, 2]\n"
     ]
    }
   ],
   "source": [
    "print(list_union([1, 2, 3], [1, 2, 4]))\n",
    "print(list_union([-10, -5, 0, -1], [100, 9, 0, 9]))\n",
    "print(list_union([0, 1, 2], [0, 1, 2]))"
   ]
  },
  {
   "cell_type": "code",
   "execution_count": 5,
   "metadata": {
    "collapsed": true
   },
   "outputs": [],
   "source": [
    "from urllib import request \n",
    " \n",
    "url = 'http://cse.koreatech.ac.kr'\n",
    "f = request.urlopen(url)\n",
    "source_bytes = f.read()\n",
    "source = source_bytes.decode('utf-8')\n",
    "\n",
    "# 추후 숙제 답안 제출 때엔 아래 코드는 주석처리할 것                 \n",
    "#print(type(source_bytes))\n",
    "#print(type(source))\n",
    "#print(source)"
   ]
  },
  {
   "cell_type": "code",
   "execution_count": 28,
   "metadata": {},
   "outputs": [
    {
     "name": "stdout",
     "output_type": "stream",
     "text": [
      "단어 수 :  461\n",
      "['컴퓨터공학부', '//', 'Schoolfun', '-', 'Study', 'and', 'Fun', '--', '로그인', '로그인', '아이디', '비밀번호', '로그인', '유지', '브라우저를', '닫더라도', '로그인이', '계속', '유지될', '수', '있습니다.', '로그인', '유지', '기능을', '사용할', '경우', '다음', '접속부터는', '로그인할', '필요가', '없습니다.', '단,', '게임방,', '학교', '등', '공공장소에서', '이용', '시', '개인정보가', '유출될', '수', '있으니', '꼭', '로그아웃을', '해주세요.', '회원가입', 'ID/PW', '찾기', 'IT', '교육의', '글로벌', '메카!한국기술교육대학교', '컴퓨터공학부', 'Close', '소개', '구성원소개', '학사안내', '입학', '학부', '대학원', '학부광장', '자료실', '대학원', '공학교육인증', '학부서비스', 'Registration', '컴퓨터공학부', 'School', 'of', 'Computer', 'Science', 'and', 'Engineering', 'IT', '융합소프트웨어', '인력양성사업', 'CK', '(Creative', 'Korea)-I', '교육역량강화사업', '온라인', '컨텐츠', 'Online', 'Contents', 'for', 'Education', 'Capability', 'Empowerment', 'IT', '교육의', '글로벌', '메카', '한국기술교육대학교', '컴퓨터공학부', '홈페이지에', '오신', '것을환영합니다!', 'IT', '융합소프트웨어', '인력양성사업', '글로벌', '수준의', 'IT전문인력', '양성', 'IT융합분야에', '대한', '국제적인', '경쟁력', '고취', '바로가기', '교육역량강화사업', '컨텐츠', '교육역량강화사업', '온라인', '컨텐츠를', '소개합니다.', '바로가기', '공지사항', '[특성화]', 'G-STAR', '2017', '전시회', '학생', '모집', '공고', '2017-10-19', '14:46', '14:46', '[특성화]프레젠테이션', '실무', '자격증', '반', '특강', '2017-10-17', '17:41', '17:41', '2017년', '졸업작품', '영어발표', '경진대회', '및', '공학설계', '아이...', '2017-10-11', '09:24', '09:24', '[특성화]', '2017', 'IT융합', '프로그래밍', '경시대회', '모집', '공고', '2017-10-10', '15:49', '15:49', '[특성화]', 'ICTS', '2017', '중국', '전시회', '선발학생', '공고', '2017-09-28', '10:18', '10:18', '자유게시판', 'PaaS', '&amp;amp;', 'IaaS', '오라클데이', '개최', '(천안)', '2017-10-19', '08:58', '08:58', '제6회', '레몬', '정보보호', '세미나', '개최', '2017-10-06', '23:40', '23:40', '예비역', '훈련', '및', '뒤풀이', '공지!', '2017-09-19', '21:16', '21:16', '모의토익비를', '지원해드립니다.^^', '2017-09-17', '20:08', '20:08', '4공학관', 'B동', '입구', '담배피우는', '문제로', '글을', '올립니다.', '2017-09-11', '22:13', '22:13', '취업게시판', '[평택]', '애디언트오토모티브인테리어코리아_IT팀', '신입사...', '2017-10-19', '08:45', '08:45', '[천안]', '(주)ABB코리아', '채용', '공고문', '-', '로봇사업부', '채용(...', '2017-09-29', '11:29', '11:29', '영풍전자(주)', '-', '[안산]_직무별[제조기술/품질/개발/마...', '2017-09-25', '10:04', '10:04', '[용인-수원(내년', '통합예정)]', '㈜라온옵틱스', '신입,', '경력...', '2017-09-25', '09:21', '09:21', '엑시콘', '산학공동연구소', '연구원', '모집(~9/18)', '2017-09-08', '13:46', '13:46', 'Platum', '융복합', '미디어', '기업', '‘미디어프론트’,', '20억', '규모', '투자유치', '2017-10-19', '21:03', '21:03', '[현장]', '창업자,”스타트업', '전반', '분위기', '64점”,', '정부', '점...', '2017-10-19', '14:02', '14:02', '3D', '프린팅', '의료기업', '‘애니메디솔루션’,', '15억', '원', '투자유치', '2017-10-19', '12:29', '12:29', '넥스트플로어,', '스튜디오포립', '전략적', '투자', '2017-10-19', '12:19', '12:19', '메쉬코리아,', '올', '3분기', '누적', '거래액', '515억', '2017-10-19', '12:13', '12:13', '전자신문', 'SK텔레콤', '양자기술,', '美서', '극찬', '\"정말', '잘', '만든', '멋...', '2017-10-19', '17:00', '17:00', '커넥티드카,', '5G+와이파이', '동시활용', '길', '열린다…글...', '2017-10-19', '17:00', '17:00', '[ICT시사용어]논스탠드얼론', '5G(NSA', '5G)', '2017-10-19', '16:13', '16:13', '中', 'ZTE', '접이식', '스마트폰', \"'액손M'\", '출시', '2017-10-19', '16:07', '16:07', '유영민', '장관,', '4차', '산업혁명', '대비', '아이디어', '기반', '...', '2017-10-19', '15:20', '15:20', 'TechCrunch', 'Snaps', 'raises', '$6M', 'to', 'expand', 'its', 'marketing', 'platf...', '2017-10-19', '23:22', '23:22', 'Owl', 'Ventures,', 'which', 'funds', 'edtech', 'exclusively,', '...', '2017-10-19', '23:21', '23:21', 'Pokémon', 'Go’s', 'Halloween', 'event', 'will', 'bring', 'new', 'Po...', '2017-10-19', '23:18', '23:18', 'Gett', 'inks', 'cross-network', 'partnership', 'with', 'Carey...', '2017-10-19', '23:16', '23:16', 'Verizon', 'delays', 'its', 'live', 'TV', 'service', 'until', 'sprin...', '2017-10-19', '23:13', '23:13', 'Back', 'to', 'Top', 'Leading', 'Together', 'for', 'Brighter', 'Future', '--', 'Quick', 'Navigation', '한국기술교육대학교', '홈페이지', '한국기술교육대학교', 'WEBMAIL', '한국기술교육대학교', '온라인', '평생교육원', 'IT', '융합소프트웨어', '인력양성사업', '컴퓨터공학부', '교직원', '업무', '자료실', '컴퓨터공학부', '포트폴리오--', 'Campus', 'Location', 'Contact', 'CSE', '충청남도', '천안시', '동남구', '병천면', '충절로', '1600한국기술교육대학교', '컴퓨터공학부', '학과사무실', 'TEL', '(041)', '560', '1460', '~', '1461', 'FAX', '(041)', '560', '1462', 'Facebook', 'Twitter', 'Google', 'Plus', 'Linkedin--', '(31253)', '충청남도', '천안시', '동남구', '병천면', '충절로', '1600', '(가전리,', '한국기술교육대학교)', '컴퓨터공학부', 'Copyright', '©', '2015.', 'All', 'rights', 'reserved']\n"
     ]
    }
   ],
   "source": [
    "s = [] # 단어를 저장할 리스트\n",
    "cnt = 0 # 단어 갯수\n",
    "word = ''\n",
    "for i in source:\n",
    "    if i == '<': # <가 나오면 태그가 시작, 1로 표시, 무시한다\n",
    "        tag = 1\n",
    "        continue\n",
    "    if i == '>': # >가 나오면 태그가 끝, 0으로 표시, <>안의 문장은 전부 무시한다\n",
    "        tag = 0\n",
    "        continue\n",
    "    if (tag == 0) and (not i.isspace()): # tag가 0이고(태그가 아니고) 공백문자가 아니면 단어로 취급\n",
    "        word = word + i # word에 저장\n",
    "    if (tag == 0) and i.isspace() and word: # tag가 0이고(태그가 아니고) 공백문자가 있으면 다른 단어로 구별\n",
    "        cnt = cnt + 1\n",
    "        s.append(word) # 리스트에 단어 저장\n",
    "        word='' # 단어를 초기화해서 새로운 단어를 저장\n",
    "print(\"단어 수 : \", cnt)\n",
    "print(s)\n"
   ]
  },
  {
   "cell_type": "markdown",
   "metadata": {},
   "source": [
    "제 힘으로 풀기 어려워 인터넷과 학우들의 도움을 얻어 풀었습니다. 태그를 0과 1로 나누는 것 까지는 생각했지만 중간중간 단어의 공백을 어떻게 처리할 지 몰라서 그 부분을 도움받았습니다."
   ]
  },
  {
   "cell_type": "code",
   "execution_count": null,
   "metadata": {
    "collapsed": true
   },
   "outputs": [],
   "source": []
  }
 ],
 "metadata": {
  "kernelspec": {
   "display_name": "Python 3",
   "language": "python",
   "name": "python3"
  },
  "language_info": {
   "codemirror_mode": {
    "name": "ipython",
    "version": 3
   },
   "file_extension": ".py",
   "mimetype": "text/x-python",
   "name": "python",
   "nbconvert_exporter": "python",
   "pygments_lexer": "ipython3",
   "version": "3.6.1"
  }
 },
 "nbformat": 4,
 "nbformat_minor": 2
}
